{
 "cells": [
  {
   "cell_type": "markdown",
   "metadata": {},
   "source": [
    "1. Даны значения зарплат из выборки выпускников: 100, 80, 75, 77, 89, 33, 45, 25, 65, 17, 30, 24, 57, 55, 70, 75, 65, 84, 90, 150. Посчитать (желательно без использования статистических методов наподобие std, var, mean) среднее арифметическое, среднее квадратичное отклонение, смещенную и несмещенную оценки дисперсий для данной выборки."
   ]
  },
  {
   "cell_type": "code",
   "execution_count": 15,
   "metadata": {},
   "outputs": [
    {
     "name": "stdout",
     "output_type": "stream",
     "text": [
      "65.3\n"
     ]
    },
    {
     "data": {
      "text/plain": [
       "65.3"
      ]
     },
     "execution_count": 15,
     "metadata": {},
     "output_type": "execute_result"
    }
   ],
   "source": [
    "import numpy as np\n",
    "a = np.array([100, 80, 75, 77, 89, 33, 45, 25, 65, 17, 30, 24, 57, 55, 70, 75, 65, 84, 90, 150])\n",
    "M = np.mean(a)\n",
    "print(M)\n",
    "m = sum(a)/len(a)\n",
    "m"
   ]
  },
  {
   "cell_type": "code",
   "execution_count": 17,
   "metadata": {},
   "outputs": [
    {
     "name": "stdout",
     "output_type": "stream",
     "text": [
      "31.624607341019814\n"
     ]
    },
    {
     "data": {
      "text/plain": [
       "31.624607341019814"
      ]
     },
     "execution_count": 17,
     "metadata": {},
     "output_type": "execute_result"
    }
   ],
   "source": [
    "S = np.std(a, ddof=1)\n",
    "print(S)\n",
    "s = np.sqrt(((a - m)**2).sum() / (len(a) - 1))\n",
    "s"
   ]
  },
  {
   "cell_type": "code",
   "execution_count": 22,
   "metadata": {},
   "outputs": [
    {
     "name": "stdout",
     "output_type": "stream",
     "text": [
      "950.11\n",
      "1000.1157894736842\n",
      "950.11\n",
      "1000.1157894736842\n"
     ]
    }
   ],
   "source": [
    "d = np.var(a)\n",
    "d1 = np.var(a, ddof=1)\n",
    "print(d)\n",
    "print(d1)\n",
    "print (((a - m)**2).sum() / len(a))\n",
    "print (((a - m)**2).sum() / (len(a) - 1))"
   ]
  },
  {
   "cell_type": "markdown",
   "metadata": {},
   "source": [
    "2. В первом ящике находится 8 мячей, из которых 5 - белые. Во втором ящике - 12 мячей, из которых 5 белых. Из первого ящика вытаскивают случайным образом два мяча, из второго - 4. Какова вероятность того, что 3 мяча белые?"
   ]
  },
  {
   "cell_type": "code",
   "execution_count": 27,
   "metadata": {},
   "outputs": [
    {
     "name": "stdout",
     "output_type": "stream",
     "text": [
      "Вероятность из первого ящика 2 мяча, из второго 1 = 0.003607503607503608\n",
      "Вероятность из первого ящика 1 мяч, из второго 2 = 0.0002040608101214162\n",
      "Вероятность из первого ящика 0 мячей, из второго 3 = 0.012987012987012986\n",
      "Вероятность того, что 3 мяча белые = 0.01679857740463801\n"
     ]
    }
   ],
   "source": [
    "from math import factorial\n",
    "\n",
    "def combinations(n, k):\n",
    "    return int(factorial(n)/(factorial(k) * factorial(n - k)))\n",
    "\n",
    "c8 = combinations(8, 2)\n",
    "c52 = combinations(5, 2)\n",
    "p52 = c52 / c8\n",
    "c12 = combinations(12, 4)\n",
    "p51 = 5 / c12\n",
    "p21 = p52 * p51\n",
    "print('Вероятность из первого ящика 2 мяча, из второго 1 =', p21)\n",
    "p22 = c52 / c12\n",
    "p12 = p22 * p51\n",
    "print('Вероятность из первого ящика 1 мяч, из второго 2 =', p12)\n",
    "c53 = combinations(5, 3)\n",
    "p53 = c53 / c12\n",
    "p10 = 1 - p52\n",
    "p03 = p10 * p53\n",
    "print('Вероятность из первого ящика 0 мячей, из второго 3 =', p03)\n",
    "P = p12 + p21 + p03\n",
    "print('Вероятность того, что 3 мяча белые =', P)"
   ]
  },
  {
   "cell_type": "markdown",
   "metadata": {},
   "source": [
    "3. На соревновании по биатлону один из трех спортсменов стреляет и попадает в мишень. Вероятность попадания для первого спортсмена равна 0.9, для второго — 0.8, для третьего — 0.6. Найти вероятность того, что выстрел произведен: a). первым спортсменом б). вторым спортсменом в). третьим спортсменом."
   ]
  },
  {
   "cell_type": "code",
   "execution_count": 29,
   "metadata": {},
   "outputs": [
    {
     "name": "stdout",
     "output_type": "stream",
     "text": [
      "1 спортсмен = 0.07200000000000001\n",
      "2 спортсмен = 0.024\n",
      "3 спортсмен = 0.012000000000000002\n"
     ]
    }
   ],
   "source": [
    "p1 = 0.9 * 0.2 * 0.4\n",
    "print('1 спортсмен =', p1)\n",
    "p2 = 0.1 * 0.6 * 0.4\n",
    "print('2 спортсмен =', p2)\n",
    "p3 = 0.1 * 0.2 * 0.6\n",
    "print('3 спортсмен =', p3)"
   ]
  },
  {
   "cell_type": "markdown",
   "metadata": {},
   "source": [
    "4. В университет на факультеты A и B поступило равное количество студентов, а на факультет C студентов поступило столько же, сколько на A и B вместе. Вероятность того, что студент факультета A сдаст первую сессию, равна 0.8. Для студента факультета B эта вероятность равна 0.7, а для студента факультета C - 0.9. Студент сдал первую сессию. Какова вероятность, что он учится: a). на факультете A б). на факультете B в). на факультете C?"
   ]
  },
  {
   "cell_type": "code",
   "execution_count": null,
   "metadata": {},
   "outputs": [],
   "source": [
    "pa = 0.8 * 0.3 * 0.1\n",
    "print('Факультет A', pa)\n",
    "pb = 0.2 * 0.7 * 0.1\n",
    "print('Факультет B', pb)\n",
    "pc = 0.2 * 0.3 *"
   ]
  },
  {
   "cell_type": "markdown",
   "metadata": {},
   "source": [
    "5. Устройство состоит из трех деталей. Для первой детали вероятность выйти из строя в первый месяц равна 0.1, для второй - 0.2, для третьей - 0.25. Какова вероятность того, что в первый месяц выйдут из строя: а). все детали б). только две детали в). хотя бы одна деталь г). от одной до двух деталей?"
   ]
  },
  {
   "cell_type": "code",
   "execution_count": 34,
   "metadata": {},
   "outputs": [
    {
     "name": "stdout",
     "output_type": "stream",
     "text": [
      "3 детали 0.006000000000000001\n",
      "2 детали 0.08000000000000002\n",
      "1 или 2 детали 0.455\n"
     ]
    }
   ],
   "source": [
    "p3 = 0.1 * 0.2 * 0.3\n",
    "print('3 детали', p3)\n",
    "p2 = 0.1 * 0.2 * 0.75 + 0.1 * 0.8 * 0.25 + 0.9 * 0.2 * 0.25\n",
    "print('2 детали', p2)\n",
    "p1 =  0.1 * 0.8 * 0.75 + 0.9 * 0.2 * 0.75 + 0.9 * 0.8 * 0.25\n",
    "p12 = p1 + p2\n",
    "print('1 или 2 детали', p12)"
   ]
  },
  {
   "cell_type": "code",
   "execution_count": null,
   "metadata": {},
   "outputs": [],
   "source": []
  }
 ],
 "metadata": {
  "kernelspec": {
   "display_name": "Python 3",
   "language": "python",
   "name": "python3"
  },
  "language_info": {
   "codemirror_mode": {
    "name": "ipython",
    "version": 3
   },
   "file_extension": ".py",
   "mimetype": "text/x-python",
   "name": "python",
   "nbconvert_exporter": "python",
   "pygments_lexer": "ipython3",
   "version": "3.7.4"
  }
 },
 "nbformat": 4,
 "nbformat_minor": 2
}
