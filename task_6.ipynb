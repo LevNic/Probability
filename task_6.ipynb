{
 "cells": [
  {
   "cell_type": "markdown",
   "metadata": {},
   "source": [
    "1. Даны значения величины заработной платы заемщиков банка (zp) и значения их поведенческого кредитного скоринга (ks):  \n",
    "zp = [35, 45, 190, 200, 40, 70, 54, 150, 120, 110],  \n",
    "ks = [401, 574, 874, 919, 459, 739, 653, 902, 746, 832].  \n",
    "Найдите ковариацию этих двух величин с помощью элементарных действий, а затем с помощью функции cov из numpy\n",
    "Полученные значения должны быть равны.  \n",
    "Найдите коэффициент корреляции Пирсона с помощью ковариации и среднеквадратичных отклонений двух признаков,\n",
    "а затем с использованием функций из библиотек numpy и pandas."
   ]
  },
  {
   "cell_type": "code",
   "execution_count": 15,
   "metadata": {},
   "outputs": [
    {
     "name": "stdout",
     "output_type": "stream",
     "text": [
      "9157.839999999997\n",
      "0.8874900920739158\n",
      "[[1.         0.88749009]\n",
      " [0.88749009 1.        ]]\n"
     ]
    },
    {
     "data": {
      "text/plain": [
       "array([[30468.89,  9157.84],\n",
       "       [ 9157.84,  3494.64]])"
      ]
     },
     "execution_count": 15,
     "metadata": {},
     "output_type": "execute_result"
    }
   ],
   "source": [
    "import numpy as np\n",
    "zp = np.array([35, 45, 190, 200, 40, 70, 54, 150, 120, 110])\n",
    "ks = np.array([401, 574, 874, 919, 459, 739, 653, 902, 746, 832])\n",
    "Szp = np.std(zp)\n",
    "Sks = np.std(ks)\n",
    "cova = np.mean(zp*ks) - np.mean(zp)*np.mean(ks)\n",
    "print(cova)\n",
    "r = cova / (Szp*Sks)\n",
    "print(r)\n",
    "corrcoef = np.corrcoef(zp, ks)\n",
    "print(corrcoef)\n",
    "covar = np.cov(ks, zp, ddof=0)\n",
    "covar"
   ]
  },
  {
   "cell_type": "markdown",
   "metadata": {},
   "source": [
    "2. Измерены значения IQ выборки студентов,\n",
    "обучающихся в местных технических вузах:\n",
    "131, 125, 115, 122, 131, 115, 107, 99, 125, 111.\n",
    "Известно, что в генеральной совокупности IQ распределен нормально.\n",
    "Найдите доверительный интервал для математического ожидания с надежностью 0.95."
   ]
  },
  {
   "cell_type": "code",
   "execution_count": 19,
   "metadata": {},
   "outputs": [
    {
     "name": "stdout",
     "output_type": "stream",
     "text": [
      "[116.36539199330412; 119.83460800669587]\n"
     ]
    }
   ],
   "source": [
    "a = np.array([131, 125, 115, 122, 131, 115, 107, 99, 125, 111])\n",
    "n = len(a)\n",
    "Ma = np.mean(a)\n",
    "Sa = np.std(a, ddof=1)\n",
    "from scipy.stats import norm\n",
    "t = norm.ppf(0.95)\n",
    "left = Ma - t*Sa/n\n",
    "right = Ma + t*Sa/n\n",
    "print(f'[{left}; {right}]')"
   ]
  },
  {
   "cell_type": "markdown",
   "metadata": {},
   "source": [
    "3. Известно, что рост футболистов в сборной распределен нормально\n",
    "с дисперсией генеральной совокупности, равной 25 кв.см. Объем выборки равен 27,\n",
    "среднее выборочное составляет 174.2. Найдите доверительный интервал для математического\n",
    "ожидания с надежностью 0.95."
   ]
  },
  {
   "cell_type": "code",
   "execution_count": 20,
   "metadata": {},
   "outputs": [
    {
     "name": "stdout",
     "output_type": "stream",
     "text": [
      "[173.89539747649044; 174.50460252350953]\n"
     ]
    }
   ],
   "source": [
    "D = 25\n",
    "n = 27\n",
    "M = 174.2\n",
    "t = norm.ppf(0.95)\n",
    "S = np.sqrt(D)\n",
    "left = M - t*S/n\n",
    "right = M + t*S/n\n",
    "print(f'[{left}; {right}]')"
   ]
  },
  {
   "cell_type": "code",
   "execution_count": null,
   "metadata": {},
   "outputs": [],
   "source": [
    "Выберите тему для проектной работы по курсу Теории вероятностей и математической статистики\n",
    "и напишите ее в комментарии к Практическому заданию."
   ]
  },
  {
   "cell_type": "markdown",
   "metadata": {},
   "source": [
    "Поскольку курсовой проект дело добровольное, то его делать не буду в связи с сильной загруженностью. А именно, работой и параллельном обучениии в School 21 от Сбербанка."
   ]
  },
  {
   "cell_type": "code",
   "execution_count": null,
   "metadata": {},
   "outputs": [],
   "source": []
  }
 ],
 "metadata": {
  "kernelspec": {
   "display_name": "Python 3",
   "language": "python",
   "name": "python3"
  },
  "language_info": {
   "codemirror_mode": {
    "name": "ipython",
    "version": 3
   },
   "file_extension": ".py",
   "mimetype": "text/x-python",
   "name": "python",
   "nbconvert_exporter": "python",
   "pygments_lexer": "ipython3",
   "version": "3.7.4"
  }
 },
 "nbformat": 4,
 "nbformat_minor": 2
}
