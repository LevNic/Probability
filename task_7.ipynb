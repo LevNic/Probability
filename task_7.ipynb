{
 "cells": [
  {
   "cell_type": "markdown",
   "metadata": {},
   "source": [
    "1. Даны значения величины заработной платы заемщиков банка (zp) и значения их поведенческого кредитного скоринга (ks):  \n",
    "zp = [35, 45, 190, 200, 40, 70, 54, 150, 120, 110],  \n",
    "ks = [401, 574, 874, 919, 459, 739, 653, 902, 746, 832].  \n",
    "Используя математические операции, посчитать коэффициенты линейной регрессии, приняв за X заработную плату (то есть, zp - признак), а за y - значения скорингового балла (то есть, ks - целевая переменная). Произвести расчет как с использованием intercept, так и без."
   ]
  },
  {
   "cell_type": "code",
   "execution_count": 52,
   "metadata": {},
   "outputs": [
    {
     "name": "stdout",
     "output_type": "stream",
     "text": [
      "b = 2.620538882402765; a = 444.1773573243596\n",
      "[401 574 874 919 459 739 653 902 746 832]\n",
      "[535.89621821 562.10160703 942.07974498 968.2851338  548.99891262\n",
      " 627.61507909 585.68645697 837.25818968 758.64202321 732.43663439]\n",
      "[[5.88982042]]\n",
      "[ 206.1437147   265.04191891 1119.06587983 1177.96408403  235.59281681\n",
      "  412.28742941  318.05030269  883.47306302  706.77845042  647.88024621]\n"
     ]
    }
   ],
   "source": [
    "import numpy as np\n",
    "x = np.array([35, 45, 190, 200, 40, 70, 54, 150, 120, 110])\n",
    "y = np.array([401, 574, 874, 919, 459, 739, 653, 902, 746, 832])\n",
    "b = (np.mean(x*y) - np.mean(x)*np.mean(y)) / (np.mean(x**2) - np.mean(x)**2)\n",
    "a = np.mean(y) - b*np.mean(x)\n",
    "print(f'b = {b}; a = {a}')\n",
    "yp = a + b*x\n",
    "print(y)\n",
    "print(yp)\n",
    "# без intercept\n",
    "x1 = x.reshape((10, 1))\n",
    "y1 = y.reshape((10, 1))\n",
    "B = np.dot(np.linalg.inv(np.dot(x1.T, x1)), x1.T @ y1)\n",
    "yi = B[0]*x\n",
    "print(B)\n",
    "print(yi)"
   ]
  },
  {
   "cell_type": "code",
   "execution_count": 53,
   "metadata": {},
   "outputs": [
    {
     "data": {
      "text/plain": [
       "[<matplotlib.lines.Line2D at 0x116fdd350>]"
      ]
     },
     "execution_count": 53,
     "metadata": {},
     "output_type": "execute_result"
    },
    {
     "data": {
      "image/png": "[encoded data removed]",
      "text/plain": [
       "<Figure size 432x288 with 1 Axes>"
      ]
     },
     "metadata": {
      "needs_background": "light"
     },
     "output_type": "display_data"
    }
   ],
   "source": [
    "import matplotlib.pyplot as plt\n",
    "%matplotlib inline\n",
    "plt.scatter(x, y)\n",
    "plt.plot(x, yp)\n",
    "plt.plot(x, yi)"
   ]
  },
  {
   "cell_type": "markdown",
   "metadata": {},
   "source": [
    "2. Посчитать коэффициент линейной регрессии при заработной плате (zp), используя градиентный спуск (без intercept)."
   ]
  },
  {
   "cell_type": "code",
   "execution_count": 37,
   "metadata": {},
   "outputs": [
    {
     "name": "stdout",
     "output_type": "stream",
     "text": [
      "Iteration 0, B1 = 0.100015952808, mse = 518333.78108267515\n",
      "Iteration 100, B1 = 0.10161101165497242, mse = 518079.3601590412\n",
      "Iteration 200, B1 = 0.10320563107212652, mse = 517825.07939918916\n",
      "Iteration 300, B1 = 0.10479981118052274, mse = 517570.93872590084\n",
      "Iteration 400, B1 = 0.10639355210118823, mse = 517316.9380620007\n",
      "Iteration 500, B1 = 0.10798685395511673, mse = 517063.0773303558\n",
      "Iteration 600, B1 = 0.10957971686326862, mse = 516809.35645387584\n",
      "Iteration 700, B1 = 0.11117214094657109, mse = 516555.77535551257\n",
      "Iteration 800, B1 = 0.1127641263259179, mse = 516302.33395826037\n",
      "Iteration 900, B1 = 0.11435567312216967, mse = 516049.03218515625\n"
     ]
    }
   ],
   "source": [
    "n = len(x)\n",
    "def mse_(B1, X = x, y = y, n=n):\n",
    "    return np.sum((B1*X - y)**2) / n\n",
    "alpha = 1e-10\n",
    "B1 = 0.1\n",
    "for i in range(1000):\n",
    "    B1 -= alpha*(2/n)*np.sum((B1*x-y)*x)\n",
    "    if i%100 == 0:\n",
    "        print(f'Iteration {i}, B1 = {B1}, mse = {mse_(B1)}')"
   ]
  },
  {
   "cell_type": "markdown",
   "metadata": {},
   "source": [
    "3. В каких случаях для вычисления доверительных интервалов и проверки статистических гипотез используется таблица значений функции Лапласа, а в каких - таблица критических точек распределения Стьюдента?"
   ]
  },
  {
   "cell_type": "code",
   "execution_count": 38,
   "metadata": {},
   "outputs": [],
   "source": [
    "# Не знаю"
   ]
  },
  {
   "cell_type": "code",
   "execution_count": null,
   "metadata": {},
   "outputs": [],
   "source": []
  }
 ],
 "metadata": {
  "kernelspec": {
   "display_name": "Python 3",
   "language": "python",
   "name": "python3"
  },
  "language_info": {
   "codemirror_mode": {
    "name": "ipython",
    "version": 3
   },
   "file_extension": ".py",
   "mimetype": "text/x-python",
   "name": "python",
   "nbconvert_exporter": "python",
   "pygments_lexer": "ipython3",
   "version": "3.7.4"
  }
 },
 "nbformat": 4,
 "nbformat_minor": 2
}
